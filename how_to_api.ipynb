{
 "cells": [
  {
   "cell_type": "code",
   "execution_count": 2,
   "metadata": {},
   "outputs": [],
   "source": [
    "# purpose of this notebook is to walk through how to grab the data we are interested\n",
    "# in for the purpose of the project"
   ]
  },
  {
   "cell_type": "code",
   "execution_count": 3,
   "metadata": {},
   "outputs": [],
   "source": [
    "import pandas as pd\n",
    "import requests\n",
    "import json \n",
    "import datetime\n"
   ]
  },
  {
   "cell_type": "code",
   "execution_count": 4,
   "metadata": {},
   "outputs": [
    {
     "name": "stdout",
     "output_type": "stream",
     "text": [
      "12_2023\n"
     ]
    }
   ],
   "source": [
    "# purpose is to create a variable that stores todays date\n",
    "today = datetime.date.today()\n",
    "\n",
    "# formatting date as MM_YYYY\n",
    "todays_date = today.strftime('%m_%Y')\n",
    "\n",
    "# checking out if we did this successfully\n",
    "print(todays_date)"
   ]
  },
  {
   "cell_type": "code",
   "execution_count": 5,
   "metadata": {},
   "outputs": [
    {
     "name": "stdout",
     "output_type": "stream",
     "text": [
      "File saved and processed!\n",
      "      case_id    faa_ors           faa_asn  usgs_pr_id t_state      t_county  \\\n",
      "0     3123985  40-098167  2021-WTW-7918-OE         NaN      OK  Ellis County   \n",
      "1     3123544  40-097504  2021-WTW-7909-OE         NaN      OK  Ellis County   \n",
      "2     3123887  40-097762  2021-WTW-7895-OE         NaN      OK  Ellis County   \n",
      "3     3123765  40-097546  2021-WTW-7863-OE         NaN      OK  Ellis County   \n",
      "4     3123814  40-097528  2021-WTW-7897-OE         NaN      OK  Ellis County   \n",
      "...       ...        ...               ...         ...     ...           ...   \n",
      "5517  3124481  40-098727   2021-WTW-796-OE         NaN      OK  Woods County   \n",
      "5518  3113244  40-088121  2021-WTW-2261-OE         NaN      OK  Woods County   \n",
      "5519  3123934       None  2019-WTW-8528-OE         NaN      OK  Woods County   \n",
      "5520  3113250  40-088131  2021-WTW-2408-OE         NaN      OK  Woods County   \n",
      "5521  3124478  40-098732   2021-WTW-794-OE         NaN      OK  Woods County   \n",
      "\n",
      "     t_fips                p_name  p_year  p_tnum  ...  t_ttlh t_conf_atr  \\\n",
      "0     40045         25 Mile Creek  2022.0      60  ...   180.1          3   \n",
      "1     40045         25 Mile Creek  2022.0      60  ...   180.1          3   \n",
      "2     40045         25 Mile Creek  2022.0      60  ...   180.1          3   \n",
      "3     40045         25 Mile Creek  2022.0      60  ...   180.1          3   \n",
      "4     40045         25 Mile Creek  2022.0      60  ...   180.1          3   \n",
      "...     ...                   ...     ...     ...  ...     ...        ...   \n",
      "5517  40151  unknown Woods County  2021.0      29  ...     NaN          1   \n",
      "5518  40151  unknown Woods County  2021.0      29  ...     NaN          1   \n",
      "5519  40151  unknown Woods County  2021.0      29  ...     NaN          1   \n",
      "5520  40151  unknown Woods County  2021.0      29  ...     NaN          1   \n",
      "5521  40151  unknown Woods County  2021.0      29  ...     NaN          1   \n",
      "\n",
      "     t_conf_loc  t_img_date     t_img_srce     xlong      ylat   eia_id  \\\n",
      "0             3    1/4/2023  Digital Globe -99.78703  36.50172  65511.0   \n",
      "1             3    1/4/2023  Digital Globe -99.72562  36.43713  65511.0   \n",
      "2             3    1/4/2023  Digital Globe -99.76972  36.44493  65511.0   \n",
      "3             3    1/4/2023  Digital Globe -99.80706  36.51394  65511.0   \n",
      "4             3    1/4/2023  Digital Globe -99.75848  36.44498  65511.0   \n",
      "...         ...         ...            ...       ...       ...      ...   \n",
      "5517          3  10/17/2022  Digital Globe -98.62039  36.49815      NaN   \n",
      "5518          3  10/10/2021  Digital Globe -98.56604  36.53359      NaN   \n",
      "5519          3   4/20/2022  Digital Globe -98.55791  36.50163      NaN   \n",
      "5520          3  10/10/2021  Digital Globe -98.59001  36.49583      NaN   \n",
      "5521          3  10/17/2022  Digital Globe -98.63346  36.50069      NaN   \n",
      "\n",
      "      retrofit  retrofit_year  \n",
      "0            0            NaN  \n",
      "1            0            NaN  \n",
      "2            0            NaN  \n",
      "3            0            NaN  \n",
      "4            0            NaN  \n",
      "...        ...            ...  \n",
      "5517         0            NaN  \n",
      "5518         0            NaN  \n",
      "5519         0            NaN  \n",
      "5520         0            NaN  \n",
      "5521         0            NaN  \n",
      "\n",
      "[5522 rows x 27 columns]\n"
     ]
    }
   ],
   "source": [
    "def grab_data_by_state(state, pls_save=False):\n",
    "    '''\n",
    "    Purpose of this function is to grab wind turbing data by statem which is the\n",
    "    input that the user will provide\n",
    "    '''\n",
    "    # purpose is to create a variable that stores todays date\n",
    "    today = datetime.date.today()\n",
    "\n",
    "    # formatting date as MM_YYYY\n",
    "    todays_date = today.strftime('%m_%Y')\n",
    "\n",
    "    # base path that will be the first part of all url requests\n",
    "    base_path = 'https://eersc.usgs.gov/api/uswtdb/v1/'\n",
    "\n",
    "    # url segement that allows us to grab data by state\n",
    "    by_state = f'turbines?&t_state=eq.{state}'\n",
    "\n",
    "    # purpose is to walk through how to convert json --> dataframe\n",
    "    url = base_path + by_state\n",
    "    response = requests.get(url=url)\n",
    "    json_data = json.loads(response.content)\n",
    "\n",
    "    # now we want to convert into a pandas df\n",
    "    df = pd.DataFrame(data=json_data)\n",
    "\n",
    "    # if a save == True, then we will create a save path and store the file as xlsx\n",
    "    if pls_save == True:\n",
    "\n",
    "        # outputting data as a csv file\n",
    "        save_path = f'data_files/{state}_{todays_date}.xlsx'\n",
    "        df.to_excel(save_path)\n",
    "\n",
    "        print('File saved and processed!')\n",
    "\n",
    "    else:\n",
    "\n",
    "        print('File saved only.')\n",
    "\n",
    "    return df\n",
    "\n",
    "\n",
    "df = grab_data_by_state(state='OK', pls_save=True)\n",
    "\n",
    "print(df)\n"
   ]
  },
  {
   "cell_type": "markdown",
   "metadata": {},
   "source": [
    "Now, we want to create a data processing function"
   ]
  },
  {
   "cell_type": "code",
   "execution_count": 18,
   "metadata": {},
   "outputs": [
    {
     "name": "stdout",
     "output_type": "stream",
     "text": [
      "File saved and processed!\n",
      "       case_id    faa_ors           faa_asn  usgs_pr_id t_state  \\\n",
      "0      3107778  48-176902  2019-WTW-5128-OE         NaN      TX   \n",
      "1      3107780  48-176802  2019-WTW-5126-OE         NaN      TX   \n",
      "2      3108495  48-178030  2019-WTW-9764-OE         NaN      TX   \n",
      "3      3107338  48-176903  2019-WTW-5156-OE         NaN      TX   \n",
      "4      3107221  48-178001  2019-WTW-9765-OE         NaN      TX   \n",
      "...        ...        ...               ...         ...     ...   \n",
      "18691  3127906  48-192193  2019-WTW-5932-OE         NaN      TX   \n",
      "18692  3126207  48-192199  2019-WTW-5924-OE         NaN      TX   \n",
      "18693  3126250  48-192142  2019-WTW-5864-OE         NaN      TX   \n",
      "18694  3126933  48-192143  2019-WTW-5860-OE         NaN      TX   \n",
      "18695  3040944  48-024978   2011-WTW-352-OE     41364.0      TX   \n",
      "\n",
      "               t_county t_fips                  p_name  p_year  p_tnum  ...  \\\n",
      "0           Kent County  48263                 Amadeus  2020.0      96  ...   \n",
      "1           Kent County  48263                 Amadeus  2020.0      96  ...   \n",
      "2      Stonewall County  48433                 Amadeus  2020.0      96  ...   \n",
      "3      Stonewall County  48433                 Amadeus  2020.0      96  ...   \n",
      "4      Stonewall County  48433                 Amadeus  2020.0      96  ...   \n",
      "...                 ...    ...                     ...     ...     ...  ...   \n",
      "18691    Willacy County  48489  unknown Willacy County  2022.0      67  ...   \n",
      "18692    Willacy County  48489  unknown Willacy County  2022.0      67  ...   \n",
      "18693    Willacy County  48489  unknown Willacy County  2022.0      67  ...   \n",
      "18694    Willacy County  48489  unknown Willacy County  2022.0      67  ...   \n",
      "18695      Young County  48503  unknown Young County 1  2011.0       1  ...   \n",
      "\n",
      "       t_ttlh t_conf_atr t_conf_loc  t_img_date     t_img_srce      xlong  \\\n",
      "0       152.4          3          3  10/31/2020  Digital Globe -100.56276   \n",
      "1       152.4          3          3   1/28/2021  Digital Globe -100.54704   \n",
      "2       152.4          3          3   1/28/2021  Digital Globe -100.51517   \n",
      "3       152.4          3          3    2/2/2022  Digital Globe -100.51091   \n",
      "4       152.4          3          3   1/28/2021  Digital Globe -100.50873   \n",
      "...       ...        ...        ...         ...            ...        ...   \n",
      "18691     NaN          1          3    5/7/2023  Digital Globe  -97.56815   \n",
      "18692     NaN          1          1    8/7/2022  Digital Globe  -97.58549   \n",
      "18693     NaN          1          2    8/7/2022  Digital Globe  -97.63060   \n",
      "18694     NaN          1          2    8/7/2022  Digital Globe  -97.62645   \n",
      "18695     NaN          1          3   7/16/2018  Digital Globe  -98.55109   \n",
      "\n",
      "           ylat   eia_id  retrofit  retrofit_year  \n",
      "0      32.99558  62142.0         0            NaN  \n",
      "1      32.99675  62142.0         0            NaN  \n",
      "2      33.01230  62142.0         0            NaN  \n",
      "3      33.04374  62142.0         0            NaN  \n",
      "4      33.01292  62142.0         0            NaN  \n",
      "...         ...      ...       ...            ...  \n",
      "18691  26.47715      NaN         0            NaN  \n",
      "18692  26.49590      NaN         0            NaN  \n",
      "18693  26.56775      NaN         0            NaN  \n",
      "18694  26.57033      NaN         0            NaN  \n",
      "18695  33.09329      NaN         0            NaN  \n",
      "\n",
      "[18696 rows x 27 columns]\n"
     ]
    }
   ],
   "source": [
    "# creating a data processing df\n",
    "def process_data(dataframe):\n",
    "\n",
    "    '''\n",
    "    Purpose of this function is to clean up our data.\n",
    "    '''\n",
    "    dataframe['p_name'] = dataframe['p_name'].values.astype(str)\n",
    "    dataframe.drop(dataframe[dataframe.p_name.str.contains('unknown', case=False)].index)\n",
    "\n",
    "    return dataframe\n",
    "\n",
    "\n",
    "df_test = grab_data_by_state(state='TX', pls_save=True)\n",
    "\n",
    "processed_df = process_data(dataframe=df_test)\n",
    "\n",
    "print(processed_df)\n"
   ]
  }
 ],
 "metadata": {
  "kernelspec": {
   "display_name": "Python 3",
   "language": "python",
   "name": "python3"
  },
  "language_info": {
   "codemirror_mode": {
    "name": "ipython",
    "version": 3
   },
   "file_extension": ".py",
   "mimetype": "text/x-python",
   "name": "python",
   "nbconvert_exporter": "python",
   "pygments_lexer": "ipython3",
   "version": "3.9.13"
  }
 },
 "nbformat": 4,
 "nbformat_minor": 2
}
